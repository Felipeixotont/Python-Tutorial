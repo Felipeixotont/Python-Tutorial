{
  "nbformat": 4,
  "nbformat_minor": 0,
  "metadata": {
    "colab": {
      "name": "Python Tutorial",
      "provenance": [],
      "collapsed_sections": [],
      "toc_visible": true,
      "include_colab_link": true
    },
    "kernelspec": {
      "name": "python3",
      "display_name": "Python 3"
    }
  },
  "cells": [
    {
      "cell_type": "markdown",
      "metadata": {
        "id": "view-in-github",
        "colab_type": "text"
      },
      "source": [
        "<a href=\"https://colab.research.google.com/github/Felipeixotont/Python-Tutorial/blob/master/Python_Tutorial.ipynb\" target=\"_parent\"><img src=\"https://colab.research.google.com/assets/colab-badge.svg\" alt=\"Open In Colab\"/></a>"
      ]
    },
    {
      "cell_type": "markdown",
      "metadata": {
        "id": "2inJiQRkt-FS",
        "colab_type": "text"
      },
      "source": [
        "# WORKSHOP DE PYTHON \n",
        "\n",
        "<img src=\"https://img.elo7.com.br/product/main/1C78BA7/poster-brasao-uff-advogado.jpg\">\n",
        " \n",
        " ### Professora orientadora: Leila Weitzel\n",
        " ### Alunos:"
      ]
    },
    {
      "cell_type": "markdown",
      "metadata": {
        "id": "TojBIq0AyMKX",
        "colab_type": "text"
      },
      "source": [
        "#  **INTRODUÇÃO**\n",
        "\n",
        "---\n",
        "![alt text](https://www.python.org/static/opengraph-icon-200x200.png)\n",
        "\n",
        "\n",
        "Olá, Programadores! Veremos adiante um tutorial básico de programação em Python 3. Será apresentado os seguintes conceitos:\n",
        "\n",
        "\n",
        "\n",
        "*   Variáveis;\n",
        "*   Strings;\n",
        "*   Listas;\n",
        "*   Condicionais If, Elif e Else ( In e Not In);\n",
        "*   Função Range;   \n",
        "*   Loop com For;\n",
        "*   Loop com While;\n",
        "*   Funções.\n",
        "\n",
        "\n",
        "\n",
        "\n",
        "\n",
        "\n"
      ]
    },
    {
      "cell_type": "markdown",
      "metadata": {
        "id": "fIjZOov5Y7Cy",
        "colab_type": "text"
      },
      "source": [
        "# ***VARIÁVEIS***\n",
        "\n",
        "\n",
        "---\n",
        "\n",
        "As variáveis são objetos ao qual podemos armazenar e manipular informações, elas ficam reservadas na memória quando declaradas para que possamos utilizá-las durante a execução do nosso programa. \n",
        "As variáveis precisam de um nome, você é o responsável por dar nome a elas. As variáveis em Python, diferente de outras linguagens que usam o conceito de tipo estático, são dinâmicas. \n",
        "Isso significa que não é necessário declarar o tipo das variáveis antes para poder manipulá-las. As variáveis assumem o seu tipo a partir do momento que é atribuído alguma coisa a elas.\n",
        "\n",
        "Veremos a seguir um exemplo:"
      ]
    },
    {
      "cell_type": "code",
      "metadata": {
        "id": "iOb_oqqKLWCl",
        "colab_type": "code",
        "outputId": "04f03809-3259-4e27-ad00-2a9fcba91117",
        "colab": {
          "base_uri": "https://localhost:8080/",
          "height": 34
        }
      },
      "source": [
        "num = 7 \n",
        "\n",
        "print (a)"
      ],
      "execution_count": 0,
      "outputs": [
        {
          "output_type": "stream",
          "text": [
            "7\n"
          ],
          "name": "stdout"
        }
      ]
    },
    {
      "cell_type": "markdown",
      "metadata": {
        "id": "QwYK57D0MDvO",
        "colab_type": "text"
      },
      "source": [
        "\n",
        "\n",
        "---\n",
        "\n",
        "\n",
        "A variável '**num**' acima recebeu o valor 7, um número inteiro. Da mesma forma, a variável pode receber números reais, ou string ou o que você precisar.\n",
        "\n",
        "Outro exemplo:"
      ]
    },
    {
      "cell_type": "code",
      "metadata": {
        "id": "TLyAXOR0Mf2Y",
        "colab_type": "code",
        "outputId": "af3fc9ba-aa7f-4f59-86ef-c52850fa3c89",
        "colab": {
          "base_uri": "https://localhost:8080/",
          "height": 34
        }
      },
      "source": [
        "nome = \"Universidade Federal Fluminense\"\n",
        "\n",
        "print (nome)"
      ],
      "execution_count": 0,
      "outputs": [
        {
          "output_type": "stream",
          "text": [
            "Universidade Federal Fluminense\n"
          ],
          "name": "stdout"
        }
      ]
    },
    {
      "cell_type": "markdown",
      "metadata": {
        "id": "vOEshCYVNudz",
        "colab_type": "text"
      },
      "source": [
        "\n",
        "\n",
        "---\n",
        "\n",
        "\n",
        "Assim como em outras linguagens de programação, existe uma função para capturar entrada de dados chamada **input** no Python, ela por padrão converte o que o usuário digitar em uma **String**, então, caso quisermos que o usuário digite um **VALOR** para ser armazenado em uma variável, devemos informar antes de chamar a função **input** o tipo que queremos converter o que o usuário digitar, por exemplo, se quisermos converter o que o usuário digitou para um número inteiro, devemos colocar **int** antes de chamar a função **input**, se for um número real, devemos colocar **float** antes de chamar a função **input**. Ela também permite imprimir uma mensagem na tela e fazer com que o usuário adicione um valor a uma variável, veja a seguir: "
      ]
    },
    {
      "cell_type": "code",
      "metadata": {
        "id": "ssqz9ZEaN-Cd",
        "colab_type": "code",
        "outputId": "6dd79a63-8f4a-4a1e-85aa-63b34e3e3bac",
        "colab": {
          "base_uri": "https://localhost:8080/",
          "height": 51
        }
      },
      "source": [
        "nome = input(\"Digite o seu nome: \")\n",
        "print (nome)"
      ],
      "execution_count": 0,
      "outputs": [
        {
          "output_type": "stream",
          "text": [
            "Digite o seu nome: FELIPE HENRIQUE PEIXOTO NETO\n",
            "FELIPE HENRIQUE PEIXOTO NETO\n"
          ],
          "name": "stdout"
        }
      ]
    },
    {
      "cell_type": "markdown",
      "metadata": {
        "id": "6MJrQW0NTYHq",
        "colab_type": "text"
      },
      "source": [
        "Como vimos agora, as variáveis podem receber um valor digitado pelo usuário. Vimos também que podemos definir o valor da variável quando declaramos ela, ou podemos fazer com que ela receba um valor através de operações com outras variáveis, ou somente fazer uma cópia do valor de outra variável. Vamos ver?"
      ]
    },
    {
      "cell_type": "code",
      "metadata": {
        "id": "TIAzSSG7TtxH",
        "colab_type": "code",
        "outputId": "d06a538a-04ed-4f04-ee1d-d844c1fd65e1",
        "colab": {
          "base_uri": "https://localhost:8080/",
          "height": 102
        }
      },
      "source": [
        "num1 = int (input (\"Digite o primeiro valor a ser somado: \"))\n",
        "num2 = int (input('Digite o segundo valor a ser somado: '))\n",
        "soma = num1+num2\n",
        "copia = num2\n",
        "print(f'\\nO resultado da soma é igual a: {soma}.\\n A cópia do segundo número é: {copia}.')"
      ],
      "execution_count": 0,
      "outputs": [
        {
          "output_type": "stream",
          "text": [
            "Digite o primeiro valor a ser somado: 3\n",
            "Digite o segundo valor a ser somado: 4\n",
            "\n",
            "O resultado da soma é igual a: 7.\n",
            " A cópia do segundo número é: 4.\n"
          ],
          "name": "stdout"
        }
      ]
    },
    {
      "cell_type": "markdown",
      "metadata": {
        "id": "DLYTO0O0qgI3",
        "colab_type": "text"
      },
      "source": [
        "\n",
        "\n",
        "---\n",
        "Após aprender sobre as variáveis e a função Input, vamos agora aprender os conceitos de String a seguir.\n"
      ]
    },
    {
      "cell_type": "markdown",
      "metadata": {
        "id": "-wHB2uO4aU7d",
        "colab_type": "text"
      },
      "source": [
        "# ***STRING***\n",
        "\n",
        "\n",
        "---\n",
        "\n",
        "\n",
        "Strings podem ser definidos como coleções de sequências de caracteres. Isto significa que assumimos que os caracteres individuais que compõem a String estão em uma determinada ordem, da esquerda para a direita, como uma espécie de vetor, porém, contendo somente caracteres.\n",
        "\n",
        "Uma String é uma variável que não possui valor numérico, é um conjunto de caracteres ou números que não podem sofrer operações matemáticas.\n",
        "\n",
        "Para facilitar a explicação, veremos o seguinte exemplo:\n"
      ]
    },
    {
      "cell_type": "code",
      "metadata": {
        "id": "QBXVSJwpUXcU",
        "colab_type": "code",
        "outputId": "c5c1c37a-6e14-40e1-bc6f-58056f6f35fe",
        "colab": {
          "base_uri": "https://localhost:8080/",
          "height": 68
        }
      },
      "source": [
        "nome = \"UFF\"\n",
        "\n",
        "print(nome[0])\n",
        "print(nome[1])\n",
        "print (nome[2])"
      ],
      "execution_count": 0,
      "outputs": [
        {
          "output_type": "stream",
          "text": [
            "U\n",
            "F\n",
            "F\n"
          ],
          "name": "stdout"
        }
      ]
    },
    {
      "cell_type": "markdown",
      "metadata": {
        "id": "E3xTWiG_ecte",
        "colab_type": "text"
      },
      "source": [
        "\n",
        "\n",
        "---\n",
        "\n",
        "\n",
        "Como pode ver, a cada print em uma das posições da String foi impresso apenas um caracter, que é o caracter correspondente a posição.\n",
        "\n",
        "\n",
        "Existem alguns operadores que podemos utilizar em Strings, como por exemplo o operador **Soma** e o operador de **Multiplicação**.\n",
        "O operador Soma é utilizado para concatenação de Strings (como mencionado antes, Strings não podem sofrer operações matemáticas, logo, o operador soma não faz adição assim como o operador de multiplicação não multiplica).\n",
        "Veja a seguir um exemplo:"
      ]
    },
    {
      "cell_type": "code",
      "metadata": {
        "id": "7kU7DUrcf9sX",
        "colab_type": "code",
        "outputId": "adf315bd-57b5-4a8d-df05-5a595994e0ff",
        "colab": {
          "base_uri": "https://localhost:8080/",
          "height": 34
        }
      },
      "source": [
        "universidade = \" - UFF\"\n",
        "curso = \"Ciência da Computação\"\n",
        "\n",
        "print (curso + universidade)"
      ],
      "execution_count": 0,
      "outputs": [
        {
          "output_type": "stream",
          "text": [
            "Ciência da Computação - UFF\n"
          ],
          "name": "stdout"
        }
      ]
    },
    {
      "cell_type": "markdown",
      "metadata": {
        "id": "SqU3KEPIm275",
        "colab_type": "text"
      },
      "source": [
        "\n",
        "\n",
        "---\n",
        "\n",
        "\n",
        "Já o operador de Multiplicação é utilizado para fazer repetições. Podemos imprimir na tela a String mais a quantidade de repetições que você quiser, veja a seguir:"
      ]
    },
    {
      "cell_type": "code",
      "metadata": {
        "id": "6TQR7XoaoJmS",
        "colab_type": "code",
        "outputId": "0ffeec05-7a03-474e-f255-c59c1803e090",
        "colab": {
          "base_uri": "https://localhost:8080/",
          "height": 34
        }
      },
      "source": [
        "risa = \" HA\"\n",
        "print (risa*4)"
      ],
      "execution_count": 0,
      "outputs": [
        {
          "output_type": "stream",
          "text": [
            " HA HA HA HA\n"
          ],
          "name": "stdout"
        }
      ]
    },
    {
      "cell_type": "markdown",
      "metadata": {
        "id": "LSA7IiionmQ-",
        "colab_type": "text"
      },
      "source": [
        "\n",
        "\n",
        "---\n",
        "Com isso, aprendemos os conceitos de uma String. A seguir, vamos aprender um pouco sobre **Listas**.\n"
      ]
    },
    {
      "cell_type": "markdown",
      "metadata": {
        "id": "4-N9dDwDycKu",
        "colab_type": "text"
      },
      "source": [
        "# ***LISTAS***\n",
        "\n",
        "\n",
        "---\n",
        "\n",
        "\n",
        "\n",
        "\n",
        "\n",
        "A Lista é uma das **principais Estrutura de Dados** do Python. Ela é capaz de armazenar qualquer tipo de objeto, sendo números, caracteres, strings e até mesmo outras listas e tudo isso ao mesmo tempo se precisar. Ela funciona semelhante a um vetor em outras linguagens de programação, sendo organizada de forma linear e cada posição contendo um índice iniciando do 0, sendo separada por vírgulas dentro dos colchetes e em cada posição podendo ser alocado um objeto. A Lista no Python também nos permite utilizar índices negativos, fazendo com que fique bem fácil de localizar o último elemento da sua lista, bastando utilizar o índice -1. \n",
        "\n",
        "Além disso, a Lista pode aumentar e diminuir de tamanho dinamicamente. \n",
        "\n",
        "\n",
        "\n",
        "![alt text](https://cdn.programiz.com/sites/tutorial2program/files/python-list-index.png)"
      ]
    },
    {
      "cell_type": "markdown",
      "metadata": {
        "id": "fmLV7Zqf7emS",
        "colab_type": "text"
      },
      "source": [
        "**CRIANDO LISTAS:**\n",
        "\n",
        "Existem várias maneiras de se declarar uma lista, podemos simplesmente declarar uma lista vazia e posteriormente ir adicionando conteúdo  ou podemos declara-lá e ao mesmo tempo incluir objetos a ela, entre outras manerias, veja um simples exemplo:"
      ]
    },
    {
      "cell_type": "code",
      "metadata": {
        "id": "KJbX92Zo9Qe4",
        "colab_type": "code",
        "outputId": "7fb20484-9e82-409b-fd92-4700b742c310",
        "colab": {
          "base_uri": "https://localhost:8080/",
          "height": 34
        }
      },
      "source": [
        "professor = ['José']\n",
        "aluno = ['Felipe','Neto',2019]\n",
        "\n",
        "print (aluno+professor)"
      ],
      "execution_count": 0,
      "outputs": [
        {
          "output_type": "stream",
          "text": [
            "['Felipe', 'Neto', 2019, 'José']\n"
          ],
          "name": "stdout"
        }
      ]
    },
    {
      "cell_type": "markdown",
      "metadata": {
        "id": "JRsGW-fKBsKU",
        "colab_type": "text"
      },
      "source": [
        "\n",
        "\n",
        "---\n",
        "\n",
        "\n",
        "**METODOS:**\n",
        "\n",
        "O Python oferece vários métodos para manipulação de Listas. Iremos aprender os cinco Métodos mais utilizados na programação  em Python, que são: \n",
        "\n",
        "\n",
        "\n",
        "1.   Append;\n",
        "2.   Insert;\n",
        "3.   Extend;\n",
        "4.   Remove;\n",
        "5.   Pop.\n",
        "\n",
        "\n",
        "**Append -** Esse método é utilizado para poder incluir um objeto **no final** da lista. Ele recebe como parâmetro o objeto a ser adicionado. Veja a seguir:\n",
        "\n",
        "\n",
        "\n",
        "\n",
        "\n"
      ]
    },
    {
      "cell_type": "code",
      "metadata": {
        "id": "lc-TwCBAHFzh",
        "colab_type": "code",
        "outputId": "6143b037-66fb-4051-c07f-ce1f76d69523",
        "colab": {
          "base_uri": "https://localhost:8080/",
          "height": 51
        }
      },
      "source": [
        "par = [2,4,6]\n",
        "print (par)\n",
        "\n",
        "par.append (8)\n",
        "par.append ([10,12])\n",
        "print (par)"
      ],
      "execution_count": 0,
      "outputs": [
        {
          "output_type": "stream",
          "text": [
            "[2, 4, 6]\n",
            "[2, 4, 6, 8, [10, 12]]\n"
          ],
          "name": "stdout"
        }
      ]
    },
    {
      "cell_type": "markdown",
      "metadata": {
        "id": "HLSBMrZ8IV9i",
        "colab_type": "text"
      },
      "source": [
        "\n",
        "\n",
        "---\n",
        "\n",
        "\n",
        "**Insert -** O método Insert serve para poder inserir um objeto em uma determinada posição da lista (exceto no final, pois para isso existe o append). Ele recebe como parâmetro o endereço que você deseja alocar o objeto na lista e o objeto. Veja a seguir:"
      ]
    },
    {
      "cell_type": "code",
      "metadata": {
        "id": "nmXJMA-zJUiR",
        "colab_type": "code",
        "outputId": "2894c2a6-77e1-4a9d-e9d0-1569df2a4f2e",
        "colab": {
          "base_uri": "https://localhost:8080/",
          "height": 51
        }
      },
      "source": [
        "par = [2,4,6]\n",
        "print (par)\n",
        "\n",
        "par.insert (0,8)\n",
        "print (par)"
      ],
      "execution_count": 0,
      "outputs": [
        {
          "output_type": "stream",
          "text": [
            "[2, 4, 6]\n",
            "[8, 2, 4, 6]\n"
          ],
          "name": "stdout"
        }
      ]
    },
    {
      "cell_type": "markdown",
      "metadata": {
        "id": "DGaBUctuKMwN",
        "colab_type": "text"
      },
      "source": [
        "\n",
        "\n",
        "---\n",
        "\n",
        "\n",
        "**Extend -** O metodo Extend serve para extender uma lista, anexando elementos do iterável no fim da lista (Diferente do método append que adiciona somente um objeto por vez). Veja a seguir: "
      ]
    },
    {
      "cell_type": "code",
      "metadata": {
        "id": "uyTQmhZDL1HP",
        "colab_type": "code",
        "outputId": "6405d219-8e35-4f71-d461-8ee75de7741f",
        "colab": {
          "base_uri": "https://localhost:8080/",
          "height": 68
        }
      },
      "source": [
        "par = [2,4,6]\n",
        "impar = [1,3,7]\n",
        "par.extend (impar)\n",
        "print (par,'\\n') #Aqui veremos o que acontece quando utilizamos o método extend.\n",
        "\n",
        "par.append(impar) #Já aqui, o que acontece quando utilizamos o método append.\n",
        "print (par)"
      ],
      "execution_count": 0,
      "outputs": [
        {
          "output_type": "stream",
          "text": [
            "[2, 4, 6, 1, 3, 7] \n",
            "\n",
            "[2, 4, 6, 1, 3, 7, [1, 3, 7]]\n"
          ],
          "name": "stdout"
        }
      ]
    },
    {
      "cell_type": "markdown",
      "metadata": {
        "id": "iYgvvAWsOVSt",
        "colab_type": "text"
      },
      "source": [
        "\n",
        "\n",
        "---\n",
        "\n",
        "\n",
        "**Remove -** O metodo Remove serve para remover um objeto específico da lista, e diferente do método POP, o método Remove não retorna o objeto removido. Esse método recebe como argumento exatamente o objeto que desejamos remover, veja a seguir:"
      ]
    },
    {
      "cell_type": "code",
      "metadata": {
        "id": "a0jq9-iPOtSF",
        "colab_type": "code",
        "outputId": "f6ecbb3d-218f-46e0-de26-c5373079755e",
        "colab": {
          "base_uri": "https://localhost:8080/",
          "height": 51
        }
      },
      "source": [
        "par = [2,4,6]\n",
        "print (par)\n",
        "\n",
        "par.remove (2)\n",
        "\n",
        "print (par)"
      ],
      "execution_count": 0,
      "outputs": [
        {
          "output_type": "stream",
          "text": [
            "[2, 4, 6]\n",
            "[4, 6]\n"
          ],
          "name": "stdout"
        }
      ]
    },
    {
      "cell_type": "markdown",
      "metadata": {
        "id": "Y31ljCfxO3Cd",
        "colab_type": "text"
      },
      "source": [
        "\n",
        "\n",
        "---\n",
        "\n",
        "\n",
        "Lembrando que ele elimina somente o primeiro objeto da lista fornecido pelo parametro. Na Lista pode conter objetos iguais, sendo assim, se desejar eliminar TODOS os objetos iguais fornecido pelo argumento, você irá precisar de um loop para isso.\n",
        "\n",
        "\n",
        "\n",
        "**Pop -** O metodo Pop serve para remover um objeto da lista também, porém, diferente do metodo Remove, o Pop recebe como argumento o endereço do objeto a ser removido. Se não informarmos nenhum argumento dentro do metodo Pop, será removido o ultimo objeto da lista. \n",
        "Um detalhe muito importante, o Pop não só remove o objeto, mas ele retorna o objeto removido, podendo alocar esse objeto removido em outro lugar, em uma variável por exemplo. Caso nada seja feito com o objeto removido pelo metodo Pop, a memória utilizada para armazenar aquele objeto é recuperada. Veja a seguir:"
      ]
    },
    {
      "cell_type": "code",
      "metadata": {
        "id": "TIw4NJ5ORRNZ",
        "colab_type": "code",
        "outputId": "bbbf9484-8cd5-410e-a267-2bab765a4290",
        "colab": {
          "base_uri": "https://localhost:8080/",
          "height": 51
        }
      },
      "source": [
        "par = [2,4,6]\n",
        "print (par)\n",
        "\n",
        "num = par.pop (0)\n",
        "\n",
        "print ('O numero removido da lista é: ',num)"
      ],
      "execution_count": 0,
      "outputs": [
        {
          "output_type": "stream",
          "text": [
            "[2, 4, 6]\n",
            "O numero removido da lista é:  2\n"
          ],
          "name": "stdout"
        }
      ]
    },
    {
      "cell_type": "markdown",
      "metadata": {
        "id": "bcoaHW3CgvYZ",
        "colab_type": "text"
      },
      "source": [
        "\n",
        "\n",
        "---\n",
        "\n",
        "\n",
        "A Lista, assim como a Função Range (Que iremos ver mais adiante) trabalham com o formato **Start**, **Stop** e **Step**. O que isso é na verdade? Isso é mais uma forma de manipular nossas listas, como já sabemos, as listas são organizadas de forma linear e possui posições, índices, e em cada posição existe um objeto. O que faríamos caso quiséssimos imprimir somente os três primeiros objetos de uma lista que possuí um comprimento de seis? Vamos ver a seguir:"
      ]
    },
    {
      "cell_type": "code",
      "metadata": {
        "id": "twhp6zc5iCo4",
        "colab_type": "code",
        "outputId": "6a5e1dcf-d391-4e90-e606-2998acc44d2f",
        "colab": {
          "base_uri": "https://localhost:8080/",
          "height": 34
        }
      },
      "source": [
        "listaNome = ['Lucas','Maria Eduarda', 'Felipe', 'Peixe', 'Thiago', 'João Pedro']\n",
        "print(listaNome[0:3])"
      ],
      "execution_count": 0,
      "outputs": [
        {
          "output_type": "stream",
          "text": [
            "['Lucas', 'Maria Eduarda', 'Felipe']\n"
          ],
          "name": "stdout"
        }
      ]
    },
    {
      "cell_type": "markdown",
      "metadata": {
        "id": "rkqc3R2PinhV",
        "colab_type": "text"
      },
      "source": [
        "Viu que interessante? No nosso print, colocamos a **listaNome** e entre colchetes colocamos [0:3], que indicam o início que será impresso (**Start**) até a posição da lista que desejamos imprimir (**Stop**), que no caso é o índice dois. Poderiamos também por exemplo, imprimir de dois em dois os objetos da lista, basta adicionar o passo, vamos ver a seguir:"
      ]
    },
    {
      "cell_type": "code",
      "metadata": {
        "id": "NTz9NiZUj-sB",
        "colab_type": "code",
        "outputId": "fc864260-9814-4cbe-d975-05eced0f4188",
        "colab": {
          "base_uri": "https://localhost:8080/",
          "height": 34
        }
      },
      "source": [
        "listaNome = ['Lucas','Maria Eduarda', 'Felipe', 'Peixe', 'Thiago', 'João Pedro']\n",
        "print(listaNome[::2])"
      ],
      "execution_count": 0,
      "outputs": [
        {
          "output_type": "stream",
          "text": [
            "['Lucas', 'Felipe', 'Thiago']\n"
          ],
          "name": "stdout"
        }
      ]
    },
    {
      "cell_type": "markdown",
      "metadata": {
        "id": "yeTkmKdrkLXj",
        "colab_type": "text"
      },
      "source": [
        "\n",
        "\n",
        "---\n",
        "\n",
        "\n",
        "Como podemos ver logo acima, imprimimos de dois em dois os objetos da lista. Detalhe, a sintaxe é exatamente essa. Devemos informar o **Start** quando quisermos iniciar de um certo ponto, caso contrário, a lista irá assumir o índice inicial por padrão assim como o **Stop**, que se não informarmos, irá assumir a sua última posição por padrão. Se não informarmos o **Step**, a lista assumirá por padrão o passo um índice por vez.  \n",
        "Isso é muito poderoso. Podemos utilizar isso de diversas maneiras em nossos códigos, a flexibilidade que a Lista nos proporciona em Python é incrível. \n",
        "\n",
        "\n",
        "---\n",
        "\n",
        "\n",
        "Com isso, concluímos o conceito de Lista e aprendemos alguns de seus métodos mais importantes utilizados da linguagem, assim como o Start, Stop e Step. A seguir, veremos as condicionais **IF**, **ELIF** e **ELSE**.\n"
      ]
    },
    {
      "cell_type": "markdown",
      "metadata": {
        "id": "QrujZdJJiiZw",
        "colab_type": "text"
      },
      "source": [
        "\n",
        "\n",
        "---\n",
        "\n"
      ]
    },
    {
      "cell_type": "markdown",
      "metadata": {
        "id": "18GL2LqToWDU",
        "colab_type": "text"
      },
      "source": [
        "# ***IF, ELIF e ELSE***\n",
        "---\n",
        "\n",
        "As condicionais nos permitem fazer comparações, avaliações, verificações entre outras operações extremamente necessárias em nossos algorítmos.  \n",
        "\n",
        "Como faríamos por exemplo, para comparar dois números e saber qual deles é maior? \n",
        "Veja o código a seguir:"
      ]
    },
    {
      "cell_type": "code",
      "metadata": {
        "id": "X05Q1pwWyfJj",
        "colab_type": "code",
        "outputId": "5b672066-a50f-4279-bca8-9be9a1903e65",
        "colab": {
          "base_uri": "https://localhost:8080/",
          "height": 68
        }
      },
      "source": [
        "num1 = input('Digite o primeiro número: ')\n",
        "num2 = input('Digite o segundo número: ')\n",
        "\n",
        "if num1 > num2:\n",
        "  print ('O número', num1, 'é maior que o número', num2)\n",
        "  \n",
        "elif num1 < num2:\n",
        "  print ('O número', num1, 'é menor que o número', num2)\n",
        "\n",
        "else:\n",
        "  print('O número', num1, 'é igual ao número', num2)"
      ],
      "execution_count": 0,
      "outputs": [
        {
          "output_type": "stream",
          "text": [
            "Digite o primeiro número: 10\n",
            "Digite o segundo número: 100\n",
            "O número 10 é menor que o número 100\n"
          ],
          "name": "stdout"
        }
      ]
    },
    {
      "cell_type": "markdown",
      "metadata": {
        "id": "VQMTnyUa0IQI",
        "colab_type": "text"
      },
      "source": [
        "\n",
        "\n",
        "---\n",
        "\n",
        "\n",
        "Vimos logo acima um exemplo básico do funcionamento das condicionais, veremos agora dois operadores que funcionam em conjunto com as condicionais.\n",
        "\n",
        "**In** e **Not In** são operadores nativos do Python utilizados para saber se determinado objeto está contido ou não em uma lista, retornando True ou False dependendo da condição. \n",
        "Vamos começar pelo operador In, veja a seguir um exemplo:"
      ]
    },
    {
      "cell_type": "code",
      "metadata": {
        "id": "DMrAsvSg2Vj5",
        "colab_type": "code",
        "outputId": "ba30bf1f-c215-495f-8320-9b7898539d8f",
        "colab": {
          "base_uri": "https://localhost:8080/",
          "height": 51
        }
      },
      "source": [
        "lista = ['Mochila', 'Lápis', 'Caneta', 'Borracha']\n",
        "objeto = input(\"Qual objeto deseja verificar se está na lista: \")\n",
        "\n",
        "if objeto in lista:\n",
        "  print(\"O objeto está na lista!\")\n",
        "else:\n",
        "  print (\"O objeto não está na lista!\")"
      ],
      "execution_count": 0,
      "outputs": [
        {
          "output_type": "stream",
          "text": [
            "Digite o nome de um objeto que deseja verificar na lista: Mochila\n",
            "O objeto está na lista!\n"
          ],
          "name": "stdout"
        }
      ]
    },
    {
      "cell_type": "markdown",
      "metadata": {
        "id": "1NYRLa0I3Y4_",
        "colab_type": "text"
      },
      "source": [
        "\n",
        "\n",
        "---\n",
        "\n",
        "\n",
        "O operador **Not In**, ao contrário do **In** verifica se o objeto não está na lista, veja a seguir:"
      ]
    },
    {
      "cell_type": "code",
      "metadata": {
        "id": "nOY2A__B3p3c",
        "colab_type": "code",
        "outputId": "311cf4f0-62bb-4656-ddb6-cca3c7f4b391",
        "colab": {
          "base_uri": "https://localhost:8080/",
          "height": 51
        }
      },
      "source": [
        "lista = ['Mochila', 'Lápis', 'Caneta', 'Borracha']\n",
        "objeto = input(\"Qual objeto deseja verificar se não está na lista: \")\n",
        "\n",
        "if objeto not in lista:\n",
        "  print(\"O objeto não está na lista!\")\n",
        "else:\n",
        "  print (\"O objeto está na lista!\")"
      ],
      "execution_count": 0,
      "outputs": [
        {
          "output_type": "stream",
          "text": [
            "Qual objeto deseja verificar se não está na lista: Caderno\n",
            "O objeto não está na lista!\n"
          ],
          "name": "stdout"
        }
      ]
    },
    {
      "cell_type": "markdown",
      "metadata": {
        "id": "RqZQvkbhh9UN",
        "colab_type": "text"
      },
      "source": [
        "\n",
        "\n",
        "---\n",
        "Concluímos as condicionais **IF**, **ELIF** e **ELSE**, além de termos aprendido os operadores **In** e **Not In**.\n",
        "A seguir iremos aprender a utlizar a função **Range**.\n"
      ]
    },
    {
      "cell_type": "markdown",
      "metadata": {
        "id": "ReNiG7CT7pIu",
        "colab_type": "text"
      },
      "source": [
        "# ***FUNÇÃO RANGE***\n",
        "\n",
        "\n",
        "---\n",
        "A função Range nos retorna uma sequência de números inteiros sob demanda. Ela recebe números inteiros como argumento. Essa função é bastante utilizada na estrutura de repetição **For** e ela pode ser utilizada das seguintes formas:\n",
        "\n",
        "\n",
        "1.   range (Start)\n",
        "2.   range (Start,Stop)\n",
        "3.   range (Start,Stop,Step)\n",
        "\n",
        "No primeiro caso, basta especificar o tamanho da sequência, a função assumirá automaticamente o 0 como ponto de partida até o número inteiro passado como argumento -1.\n",
        "\n",
        "Veja a seguir:\n",
        "\n",
        "\n",
        "\n",
        "\n",
        "\n",
        "\n",
        "\n",
        "\n"
      ]
    },
    {
      "cell_type": "code",
      "metadata": {
        "id": "J4lIFflVOXws",
        "colab_type": "code",
        "outputId": "b47678bd-067f-40e6-b48d-0c05cc202af7",
        "colab": {
          "base_uri": "https://localhost:8080/",
          "height": 34
        }
      },
      "source": [
        "list (range (6))"
      ],
      "execution_count": 0,
      "outputs": [
        {
          "output_type": "execute_result",
          "data": {
            "text/plain": [
              "[0, 1, 2, 3, 4, 5]"
            ]
          },
          "metadata": {
            "tags": []
          },
          "execution_count": 61
        }
      ]
    },
    {
      "cell_type": "markdown",
      "metadata": {
        "id": "ypOJi3X5PlS9",
        "colab_type": "text"
      },
      "source": [
        "\n",
        "\n",
        "---\n",
        "\n",
        "\n",
        "No segundo caso, podemos especificar o ponto de partida e aonde a sequência irá terminar, que será o número inteiro passado como argumento -1.\n",
        "\n",
        "Veja a seguir:"
      ]
    },
    {
      "cell_type": "code",
      "metadata": {
        "id": "vI0CYV-YP304",
        "colab_type": "code",
        "outputId": "85c1793a-2434-4a56-e574-3d360e127f2a",
        "colab": {
          "base_uri": "https://localhost:8080/",
          "height": 34
        }
      },
      "source": [
        "list (range(1,6))"
      ],
      "execution_count": 0,
      "outputs": [
        {
          "output_type": "execute_result",
          "data": {
            "text/plain": [
              "[1, 2, 3, 4, 5]"
            ]
          },
          "metadata": {
            "tags": []
          },
          "execution_count": 8
        }
      ]
    },
    {
      "cell_type": "markdown",
      "metadata": {
        "id": "BRZkRdliQMn4",
        "colab_type": "text"
      },
      "source": [
        "\n",
        "\n",
        "---\n",
        "\n",
        "\n",
        "Já no terceiro e último caso, além de poder especificar o ponto de partida e aonde irá terminar, podemos também especificar a sequência da progressão aritmética, definindo assim a razão da PA.\n",
        "\n",
        "Veja a Seguir:"
      ]
    },
    {
      "cell_type": "code",
      "metadata": {
        "id": "qvWVDKHtRonF",
        "colab_type": "code",
        "outputId": "ff1deb7a-5b7d-4cde-c428-f94cc4ec1f09",
        "colab": {
          "base_uri": "https://localhost:8080/",
          "height": 34
        }
      },
      "source": [
        "list (range(1,6,2))"
      ],
      "execution_count": 0,
      "outputs": [
        {
          "output_type": "execute_result",
          "data": {
            "text/plain": [
              "[1, 3, 5]"
            ]
          },
          "metadata": {
            "tags": []
          },
          "execution_count": 6
        }
      ]
    },
    {
      "cell_type": "markdown",
      "metadata": {
        "id": "TJOIGmqiTMyJ",
        "colab_type": "text"
      },
      "source": [
        "\n",
        "\n",
        "---\n",
        "\n",
        "\n",
        "Como mencionado anteriormente, a função Range nos retorna uma sequência de números inteiros sob demanda, ou seja, ela não retorna todos os valores da sequência simultâneamente, e sim, um número de cada vez sendo esse número o menor da sequência a cada vez que ela for chamada. Eis o motivo dessa função ser bastante utilizada com a estrutura de repetição **For**, pois a cada vez que o **For** for executado ele irá chamar a função Range, que retornará o próximo menor valor da sequência até chegar no seu fim. Por isso é importante aprendermos sobre essa função antes de entrarmos na estrutura de repetição **For**.  "
      ]
    },
    {
      "cell_type": "markdown",
      "metadata": {
        "id": "5UWSxx-TvSq1",
        "colab_type": "text"
      },
      "source": [
        "# ***LOOP FOR***\n",
        "\n",
        "---\n",
        "\n",
        "Tudo que aprendemos sobre a Função Range, Operador In e Listas até aqui, nós iremos utilizar no **Loop For**.\n",
        "O Loop For é uma estrutura de repetição que nos permite executar instruções a quantidade de vezes que precisarmos até que uma condição imposta por nós seja atingida. Vamos supor que você precise que o usuário digite cinco nomes e os armazene em uma lista. Com o que aprendemos até agora seria bem fácil fazer isso, bastaria declarar a lista e chamar a função input cinco vezes utilizando o metodo append.\n",
        "\n",
        "\n"
      ]
    },
    {
      "cell_type": "code",
      "metadata": {
        "id": "1Y70lsH9cZOt",
        "colab_type": "code",
        "outputId": "ed7c659c-951f-46b6-8cbe-c00f0620e833",
        "colab": {
          "base_uri": "https://localhost:8080/",
          "height": 119
        }
      },
      "source": [
        "listaNome = []\n",
        "listaNome.append(input (\"Digite um nome: \"))\n",
        "listaNome.append(input (\"Digite um nome: \"))\n",
        "listaNome.append(input (\"Digite um nome: \"))\n",
        "listaNome.append(input (\"Digite um nome: \"))\n",
        "listaNome.append(input (\"Digite um nome: \"))\n",
        "print (listaNome)"
      ],
      "execution_count": 0,
      "outputs": [
        {
          "output_type": "stream",
          "text": [
            "Digite um nome: felipe\n",
            "Digite um nome: henrique\n",
            "Digite um nome: peixoto\n",
            "Digite um nome: neto\n",
            "Digite um nome: simone\n",
            "['felipe', 'henrique', 'peixoto', 'neto', 'simone']\n"
          ],
          "name": "stdout"
        }
      ]
    },
    {
      "cell_type": "markdown",
      "metadata": {
        "id": "-OMdmt7wg50M",
        "colab_type": "text"
      },
      "source": [
        "\n",
        "\n",
        "---\n",
        "\n",
        "\n",
        "Porém existe uma maneira bem mais simples de se fazer, economizando linhas e linhas de código utilizando o Loop For. Ficaria da seguinte forma:"
      ]
    },
    {
      "cell_type": "code",
      "metadata": {
        "id": "kurLc6zOhHRv",
        "colab_type": "code",
        "outputId": "7aa89210-8919-4109-948d-6293d74675fb",
        "colab": {
          "base_uri": "https://localhost:8080/",
          "height": 119
        }
      },
      "source": [
        "listaNome = []\n",
        "for i in range (5):\n",
        "  listaNome.append(input (\"Digite um nome: \"))\n",
        "print (listaNome)"
      ],
      "execution_count": 0,
      "outputs": [
        {
          "output_type": "stream",
          "text": [
            "Digite um nome: felipe\n",
            "Digite um nome: henrique\n",
            "Digite um nome: peixoto\n",
            "Digite um nome: neto\n",
            "Digite um nome: simone\n",
            "['felipe', 'henrique', 'peixoto', 'neto', 'simone']\n"
          ],
          "name": "stdout"
        }
      ]
    },
    {
      "cell_type": "markdown",
      "metadata": {
        "id": "fch4S6z9hntV",
        "colab_type": "text"
      },
      "source": [
        "\n",
        "\n",
        "---\n",
        "\n",
        "\n",
        "De sete linhas de código enxugamos para quatro! \n",
        "Esse exemplo citado é bem simples, digitar cinco nomes e armazenar em uma lista, porém existirá casos em que  precise armazenar muito mais do que apenas cinco nomes, e é por esse motivo que existem as repetições. Você pode notar que na chamada do **for** utilizamos o operador **In**, a função **Range** e uma variável denominada '**i**'. O **i** é a variável que recebe a iteração a cada chamada do **For**.\n",
        "O For nos permite percorrer itens de coleções também, e veremos a seguir o que acontece a cada iteração utilizando listas no For.  "
      ]
    },
    {
      "cell_type": "code",
      "metadata": {
        "id": "U2HpGJi5Ih_7",
        "colab_type": "code",
        "outputId": "01f83fe6-e9dd-48be-f586-29b748d346d7",
        "colab": {
          "base_uri": "https://localhost:8080/",
          "height": 119
        }
      },
      "source": [
        "listaTimes = ['Cruzeiro','São Paulo','Santos','Flamengo']\n",
        "\n",
        "for i in listaTimes:\n",
        "  print (i)\n",
        "else:\n",
        "  print(\"\\nTodos os times foram listados!\")"
      ],
      "execution_count": 0,
      "outputs": [
        {
          "output_type": "stream",
          "text": [
            "Cruzeiro\n",
            "São Paulo\n",
            "Santos\n",
            "Flamengo\n",
            "\n",
            "Todos os times foram listados\n"
          ],
          "name": "stdout"
        }
      ]
    },
    {
      "cell_type": "markdown",
      "metadata": {
        "id": "-AnRGzmpdhSA",
        "colab_type": "text"
      },
      "source": [
        "\n",
        "\n",
        "---\n",
        "\n",
        "\n",
        "Como podemos ver, claramente, a variável de iteração recebeu cada item da lista e o imprimiu. Podemos acrescentar um Else no fim de um loop For também, fazendo com que um bloco de código seja executado logo no fim da iteração.\n",
        "O laço de repetição For é bastante útil quando sabemos exatamente a quantidade de repetições que queremos fazer, mas e quando não sabemos quantas repetições serão necessárias? Veremos a seguir o laço de repetição **While**."
      ]
    },
    {
      "cell_type": "markdown",
      "metadata": {
        "id": "_1PtUpH0rAsP",
        "colab_type": "text"
      },
      "source": [
        "# ***LOOP WHILE***\n",
        "\n",
        "\n",
        "---\n",
        "  Assim como o For, While é uma estrutura de repetição que executa um conjunto de instruções repetidas vezes.\n",
        "  A estrutura de repetição While, diferente do For, se faz necessário informar uma condição para que a repetição pare, caso contrário ela continuará executando as instruções sem parar. Quando essa condição imposta por nós no nosso código for falso, o loop será interrompido, veja a seguir:  \n"
      ]
    },
    {
      "cell_type": "code",
      "metadata": {
        "id": "hNm4o_Ml1sNZ",
        "colab_type": "code",
        "outputId": "c7f95c1b-200b-49c2-efc9-07c916545c08",
        "colab": {
          "base_uri": "https://localhost:8080/",
          "height": 187
        }
      },
      "source": [
        "iteracao = 0\n",
        "while iteracao <10:\n",
        "  print (iteracao)\n",
        "  iteracao = iteracao+1 "
      ],
      "execution_count": 0,
      "outputs": [
        {
          "output_type": "stream",
          "text": [
            "0\n",
            "1\n",
            "2\n",
            "3\n",
            "4\n",
            "5\n",
            "6\n",
            "7\n",
            "8\n",
            "9\n"
          ],
          "name": "stdout"
        }
      ]
    },
    {
      "cell_type": "markdown",
      "metadata": {
        "id": "ILdGxvij2czC",
        "colab_type": "text"
      },
      "source": [
        "Observe bem que a condição para o loop parar é que a variável '**iteracao**' que foi definida no começo do código com o valor zero seja menor que dez, e dentro do escopo do nosso While foi informado no final que a variável '**iteracao**' deve somar mais um a ela. Se por um acaso nós esquecermos de colocar no final essa linha de código para somar mais um a variável '**iteracao**', o laço de repetição não irá parar e irá imprimir o valor zero definido no início para a variável incessantemente. Então, nunca deixe de conferir a condição de parada no While para que você não caia no loop infinito.\n",
        "\n",
        "Assim como o Loop For, podemos também acrescentar um Else no fim do While, para executar um bloco de código da mesma forma, veja a seguir:"
      ]
    },
    {
      "cell_type": "code",
      "metadata": {
        "id": "Hdum0l7E5tE8",
        "colab_type": "code",
        "outputId": "2c68c47f-92bc-4931-ecd2-b910c400eb85",
        "colab": {
          "base_uri": "https://localhost:8080/",
          "height": 221
        }
      },
      "source": [
        "iteracao = 0\n",
        "while iteracao <10:\n",
        "  print (iteracao)\n",
        "  iteracao = iteracao+1\n",
        "else:\n",
        "  print (\"\\nO loop terminou!\")"
      ],
      "execution_count": 0,
      "outputs": [
        {
          "output_type": "stream",
          "text": [
            "0\n",
            "1\n",
            "2\n",
            "3\n",
            "4\n",
            "5\n",
            "6\n",
            "7\n",
            "8\n",
            "9\n",
            "\n",
            "O loop terminou!\n"
          ],
          "name": "stdout"
        }
      ]
    },
    {
      "cell_type": "markdown",
      "metadata": {
        "id": "QyqgtmGfOP0c",
        "colab_type": "text"
      },
      "source": [
        "\n",
        "\n",
        "---\n",
        "Concluímos o laço de repetição **While** e estamos prontos para aprender sobre funções e suas utilidades.\n"
      ]
    },
    {
      "cell_type": "markdown",
      "metadata": {
        "id": "8nJJzybe7rDN",
        "colab_type": "text"
      },
      "source": [
        "# ***FUNÇÕES***\n",
        "---\n",
        "As Funções são bastante úteis em uma aplicação. Ela permite o programador criar blocos de códigos que possam ser executados quando a função for chamada, no momento em que quiser. A Função é muito útil pois existem determinados blocos de códigos que iremos precisar que sejam executados mais de uma vez dentro da aplicação, e para que isso seja feito sem que consuma linhas e linhas de códigos repetidamente, criamos uma função com essas instruções e quando precisarmos de executar essas instruções novamente, é só chamar a função. Para criar uma função é necessário dar um nome a ela, informar quantos argumentos ela irá receber e definir as instruções que ela irá executar, vamos ver um exemplo simples a seguir: \n"
      ]
    },
    {
      "cell_type": "code",
      "metadata": {
        "id": "x4YKJ28R-ID5",
        "colab_type": "code",
        "outputId": "800712f6-493c-40b9-c912-41d2bf46d15f",
        "colab": {
          "base_uri": "https://localhost:8080/",
          "height": 85
        }
      },
      "source": [
        "def nomeTime (nome_pessoa,time_pessoa):\n",
        "  print (f'\\nBoa noite, {nome_pessoa}! Você torce para o {time_pessoa}!')\n",
        "\n",
        "nome = input('Digite o seu nome: ')\n",
        "time = input('Digite o seu time: ')\n",
        "\n",
        "nomeTime (nome,time)"
      ],
      "execution_count": 0,
      "outputs": [
        {
          "output_type": "stream",
          "text": [
            "Digite o seu nome: Felipe\n",
            "Digite o seu time: Cruzeiro\n",
            "\n",
            "Boa noite, Felipe! Você torce para o Cruzeiro!\n"
          ],
          "name": "stdout"
        }
      ]
    },
    {
      "cell_type": "markdown",
      "metadata": {
        "id": "rkD3yj0HLqTU",
        "colab_type": "text"
      },
      "source": [
        "\n",
        "\n",
        "---\n",
        "\n",
        "Na primeira linha definimos o nome da nossa função como **nomeTime** e a quantidade de argumentos que ela recebe, já na ultima linha do código, chamamos a função e colocamos as váriaveis **nome** e **time** como argumento.\n",
        "Essa função foi bem simples e não ilustra muito bem a sua utilidade, mas serve para entender seu conceito e como criar uma função. Vamos ver a seguir uma função mais interessante, que nos retorna a Área de um Retângulo se passarmos como parâmetro a altura e base desse retângulo para ela. "
      ]
    },
    {
      "cell_type": "code",
      "metadata": {
        "id": "JtOcYQpaC863",
        "colab_type": "code",
        "outputId": "9d4b0cc9-e476-43aa-b409-b6d2639ec1c6",
        "colab": {
          "base_uri": "https://localhost:8080/",
          "height": 68
        }
      },
      "source": [
        "def areaRetangulo (a,b):\n",
        "  a = float(a)\n",
        "  b = float(b)  \n",
        "  area = a*b \n",
        "  return area\n",
        "\n",
        "altura = input(\"Digite a altura do retangulo: \")\n",
        "basee = input(\"Digite a base do retangulo: \")\n",
        "area_retangulo = areaRetangulo(altura,basee)\n",
        "\n",
        "print(f\"\\nA area do retangulo é igual a: {area_retangulo}\")"
      ],
      "execution_count": 0,
      "outputs": [
        {
          "output_type": "stream",
          "text": [
            "Digite a altura do retangulo: 10\n",
            "Digite a base do retangulo: 20\n",
            "A area do retangulo é igual a: 200.0\n"
          ],
          "name": "stdout"
        }
      ]
    },
    {
      "cell_type": "markdown",
      "metadata": {
        "id": "bvuY_BqWM11M",
        "colab_type": "text"
      },
      "source": [
        "Note que no escopo dessa função, tivemos que definir as variáveis recebidas por parâmetro como **Float**, pois as funções recebem seus argumentos como **String** por padrão. Se não fizermos essa conversão dentro da função, iremos receber uma mensagem de erro, então, nunca esqueça de definir o tipo da variável dentro da função caso precise retornar valores inteiros ou reais. Lembre-se que todo o conteúdo que aprendemos até aqui podem ser incluídos em uma função, tanto as condicionais quanto os laços de repetições, strings e listas. "
      ]
    },
    {
      "cell_type": "markdown",
      "metadata": {
        "id": "6RhIcYBt8byt",
        "colab_type": "text"
      },
      "source": [
        "# **EXERCÍCIOS**\n",
        "\n",
        "Para se tornar um bom programador, devemos não só nos preocupar com a parte teórica, como devemos nos preocupar com a parte prática também! É praticando e colocando a mão na massa que nós iremos assimilar tudo que vimos até aqui e quanto mais exercícios resolvermos, mais evoluímos. Faremos agora exercícios utilizando tudo que aprendemos durante o curso.\n",
        "\n",
        "\n"
      ]
    },
    {
      "cell_type": "markdown",
      "metadata": {
        "id": "Q-Ijo4hf9mAw",
        "colab_type": "text"
      },
      "source": [
        "----\n",
        "1 - Escreva um programa solicitando ao usuário que digite seu nome completo e a sua idade, em seguida, imprima a idade primeiro e o nome completo do usuário.\n",
        "\n",
        "\n",
        "---\n",
        "\n",
        "\n",
        "\n",
        "2 - Utilizando os métodos das Listas, retire da lista **legumes** os objetos \"Banana\" e \"Abacate\" e os coloque na lista **frutas**. Imprima a lista **frutas** atualizada. Copie o código abaixo e o altere. \n",
        "\n",
        "Código:\n",
        "\n",
        "legumes = ['Cenoura', 'Banana', 'Batata', 'Feijão', 'Abacate']\n",
        "\n",
        "\n",
        "frutas = ['Maçã', 'Abacaxi', 'Morango']\n",
        "\n",
        "\n",
        "---\n",
        "\n",
        "\n",
        "\n",
        "3 - Reutilizando o código anterior após alterar a lista **frutas**, verifique se o objeto 'Banana' e 'Abacate' estão ainda na lista, se estiverem, imprima a seguinte mensagem: \"*As frutas ainda estão no meio dos legumes.*\", se não estiverem, imprima a seguinte mensagem: \"*As frutas não  estão mais no meio dos legumes.*\". \n",
        "\n",
        "\n",
        "---\n",
        "\n",
        "4 - Pegue a variável **AM** que contem a seguinte string:  \"*So Carry On, there's a meaning to life!*\", transforme essa String em uma lista. Utilizando ***Start, Stop e Step***, pegue essa lista e a transforme em uma outra String  contendo somente a frase: \"*there's a meaning to life!*\" e imprima essa frase.\n",
        "\n",
        "---\n",
        "5 - Vamos detonar uma bomba! Peça o usuário para digitar os segundos para ativar a bomba, após o usuário digitar os segundos, pergunte se ele deseja ou não ativar a bomba respondendo 'S' para sim e 'N' para não. Caso ele queira ativar a bomba, imprima na tela a contagem dos segundos até chegar a '0' e chegando a '0', imprima a mensagem: \"*Boom!*\". Se ele não quiser ativar a bomba, imprima a seguinte mensagem: \"*A bomba está desativada.*\". \n",
        "\n",
        "---\n",
        "6 - Utilizando o laço de repetição **For**, faça um programa que receba quatro notas e calcula a média de um aluno. Após a média ser calculada, informe se esse aluno está aprovado caso a sua média for acima de seis, reprovado se a sua média for abaixo de quatro ou se está de recuperação caso sua nota seja menor que seis e maior que quatro.\n",
        "\n",
        "----\n",
        "\n",
        "7 - Crie um programa que calcule o fatorial de um número digitado pelo usuário. Utilize o laço de repetição **While** para isso.\n",
        "\n",
        "---\n",
        "8 - Crie uma função que receba como argumento dois números e retorne a soma desses dois números e verifique se esse resultado é par ou impar.\n",
        "\n",
        "---\n",
        "9 - Crie uma função para calcular a circunferência de um círculo. A função irá receber o perímetro como parâmetro informado pelo usuário e o valor  Pi é igual a 3,14. Obs.: Para calcular a circunferência de um círculo, basta multiplicar o seu diâmetro por Pi.\n",
        "\n",
        "---\n",
        "10 - Crie uma função que calcule o IMC (Índice de Massa Corporal) de uma pessoa, a função receberá como parâmetro o peso e a altura do usuário e retornará um valor. No fim, tendo como base o valor retornado pela função, verifique na tabela e informe a situação do usuário.\n",
        "\n",
        "Tabela:\n",
        "\n",
        "\n",
        "\n",
        "*   Abaixo do Peso =  Menor que 18,5\n",
        "\n",
        "*   Peso Normal = Entre 18,5 e 24,9\n",
        "\n",
        "*   Sobrepeso = Entre 25 e 29,9\n",
        "\n",
        "*   Obesidade Grau  = Entre 30 e 34,9\n",
        "\n",
        "*   Obesidade Grau 2 = Entre 35 e 39,9\n",
        "\n",
        "*   Obesidade Grau 3 = Maior que 40\n",
        " \n",
        "\n",
        "\n"
      ]
    }
  ]
}